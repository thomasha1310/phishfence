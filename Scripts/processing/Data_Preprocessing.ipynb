{
 "cells": [
  {
   "cell_type": "code",
   "execution_count": null,
   "id": "74ef2aff",
   "metadata": {},
   "outputs": [],
   "source": [
    "# ========== IMPORTS ==========\n",
    "\n",
    "import pandas as pd\n",
    "import random\n",
    "import re"
   ]
  },
  {
   "cell_type": "code",
   "execution_count": null,
   "id": "b2f1abd1",
   "metadata": {},
   "outputs": [],
   "source": [
    "# ========== HANDLE ENRON DATA ==========\n",
    "\n",
    "df_enron_old = pd.read_csv('Phishing-Email-Dataset/Enron.csv')\n",
    "fortune = pd.read_csv('Phishing-Email-Dataset/fortune500.csv')\n",
    "companies = fortune['company']\n",
    "df_enron_old.info()\n",
    "df_enron_old.head()"
   ]
  },
  {
   "cell_type": "code",
   "execution_count": null,
   "id": "7becf493",
   "metadata": {},
   "outputs": [],
   "source": [
    "# ========== FUNCTIONS ==========\n",
    "\n",
    "def replace_enron(text: str) -> str:\n",
    "    if not isinstance(text, str):\n",
    "        return text\n",
    "    # Replace each instance of 'enron' (case-insensitive) with a randomly chosen company\n",
    "    return re.sub(r'enron', lambda _: random.choice(companies), text, flags=re.IGNORECASE)\n"
   ]
  },
  {
   "cell_type": "code",
   "execution_count": null,
   "id": "968c1cdc",
   "metadata": {},
   "outputs": [],
   "source": [
    "# ========== REPLACE 'ENRON' ==========\n",
    "\n",
    "text_columns = df_enron_old.select_dtypes(include='object').columns\n",
    "for col in text_columns:\n",
    "    df_enron_old[col] = df_enron_old[col].apply(replace_enron)\n",
    "df_enron_old.to_csv('Enron_New.csv', index=False)"
   ]
  },
  {
   "cell_type": "code",
   "execution_count": null,
   "id": "ede8c24d",
   "metadata": {},
   "outputs": [],
   "source": [
    "# ========== READ DATASETS ==========\n",
    "\n",
    "df_ceas = pd.read_csv('./Phishing-Email-Dataset/CEAS_08.csv')\n",
    "df_enron_new = pd.read_csv('./Phishing-Email-Dataset/Enron_New.csv')\n",
    "df_ling = pd.read_csv('./Phishing-Email-Dataset/Ling.csv')\n",
    "df_nazario = pd.read_csv('./Phishing-Email-Dataset/Nazario.csv')\n",
    "df_nigerian = pd.read_csv('./Phishing-Email-Dataset/Nigerian_Fraud.csv')\n",
    "df_assassin = pd.read_csv('./Phishing-Email-Dataset/SpamAssasin.csv')"
   ]
  },
  {
   "cell_type": "code",
   "execution_count": null,
   "id": "e0752575",
   "metadata": {},
   "outputs": [],
   "source": [
    "# ========== DATASET INFO ==========\n",
    "\n",
    "print('=============== CEAS 08  ===============')\n",
    "df_ceas.info()\n",
    "print('=============== ENRON    ===============')\n",
    "df_enron_new.info()\n",
    "print('=============== LING     ===============')\n",
    "df_ling.info()\n",
    "print('=============== NAZARIO  ===============')\n",
    "df_nazario.info()\n",
    "print('=============== NIGERIAN ===============')\n",
    "df_nigerian.info()\n",
    "print('=============== ASSASSIN ===============')\n",
    "df_assassin.info()\n"
   ]
  },
  {
   "cell_type": "code",
   "execution_count": null,
   "id": "025fc15f",
   "metadata": {},
   "outputs": [],
   "source": [
    "# ========== TRIM COLUMNS ==========\n",
    "\n",
    "df_trimmed_ceas = df_ceas[['subject', 'body', 'label']]\n",
    "df_trimmed_enron = df_enron_new[['subject', 'body', 'label']]\n",
    "df_trimmed_ling = df_ling[['subject', 'body', 'label']]\n",
    "df_trimmed_nazario = df_nazario[['subject', 'body', 'label']]\n",
    "df_trimmed_nigerian = df_nigerian[['subject', 'body', 'label']]\n",
    "df_trimmed_assassin = df_assassin[['subject', 'body', 'label']]\n",
    "\n",
    "print('=============== CEAS 08  ===============')\n",
    "df_trimmed_ceas.info()\n",
    "print('=============== ENRON    ===============')\n",
    "df_trimmed_enron.info()\n",
    "print('=============== LING     ===============')\n",
    "df_trimmed_ling.info()\n",
    "print('=============== NAZARIO  ===============')\n",
    "df_trimmed_nazario.info()\n",
    "print('=============== NIGERIAN ===============')\n",
    "df_trimmed_nigerian.info()\n",
    "print('=============== ASSASSIN ===============')\n",
    "df_trimmed_assassin.info()\n"
   ]
  },
  {
   "cell_type": "code",
   "execution_count": null,
   "id": "fea14a06",
   "metadata": {},
   "outputs": [],
   "source": [
    "# ========== CONCATENATE ==========\n",
    "\n",
    "df_complete = pd.concat(\n",
    "    [df_trimmed_ceas,\n",
    "     df_trimmed_enron,\n",
    "     df_trimmed_assassin,\n",
    "     df_trimmed_ling,\n",
    "     df_trimmed_nazario,\n",
    "     df_trimmed_nigerian],\n",
    "    axis=0,\n",
    "    ignore_index=True\n",
    ")\n",
    "df_complete.info()"
   ]
  },
  {
   "cell_type": "code",
   "execution_count": null,
   "id": "c5f4466b",
   "metadata": {},
   "outputs": [],
   "source": [
    "# ========== REMOVE INVALID DATA ==========\n",
    "\n",
    "df_complete.dropna(inplace=True)\n",
    "df_complete.drop_duplicates(inplace=True)\n",
    "df_complete.info()"
   ]
  },
  {
   "cell_type": "code",
   "execution_count": null,
   "id": "d8484e1c",
   "metadata": {},
   "outputs": [],
   "source": [
    "# ========== COUNT PHISHING/LEGITIMATE ==========\n",
    "\n",
    "print(df_complete['label'].value_counts())\n",
    "print(df_trimmed_enron['label'].value_counts())"
   ]
  },
  {
   "cell_type": "code",
   "execution_count": null,
   "id": "b3573140",
   "metadata": {},
   "outputs": [],
   "source": [
    "# ========== EXPORT DATA ==========\n",
    "\n",
    "df_complete.to_csv('../emails.csv', index=False)"
   ]
  }
 ],
 "metadata": {
  "kernelspec": {
   "display_name": "phishfence",
   "language": "python",
   "name": "python3"
  },
  "language_info": {
   "codemirror_mode": {
    "name": "ipython",
    "version": 3
   },
   "file_extension": ".py",
   "mimetype": "text/x-python",
   "name": "python",
   "nbconvert_exporter": "python",
   "pygments_lexer": "ipython3",
   "version": "3.13.5"
  }
 },
 "nbformat": 4,
 "nbformat_minor": 5
}
