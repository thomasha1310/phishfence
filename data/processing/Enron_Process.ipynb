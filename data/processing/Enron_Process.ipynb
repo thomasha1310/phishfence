{
 "cells": [
  {
   "cell_type": "code",
   "execution_count": null,
   "id": "fd991e62",
   "metadata": {},
   "outputs": [],
   "source": [
    "import numpy as np\n",
    "import pandas as pd\n",
    "import random\n",
    "import re"
   ]
  },
  {
   "cell_type": "code",
   "execution_count": null,
   "id": "99360f0e",
   "metadata": {},
   "outputs": [],
   "source": [
    "df = pd.read_csv('Phishing-Email-Dataset/Enron.csv')\n",
    "df.info()\n",
    "df.head()"
   ]
  },
  {
   "cell_type": "code",
   "execution_count": null,
   "id": "b65882f7",
   "metadata": {},
   "outputs": [],
   "source": [
    "df[df['label'] == 1].head()"
   ]
  },
  {
   "cell_type": "code",
   "execution_count": null,
   "id": "be8f8bfd",
   "metadata": {},
   "outputs": [],
   "source": [
    "fortune = pd.read_csv(\"Phishing-Email-Dataset/fortune500.csv\")"
   ]
  },
  {
   "cell_type": "code",
   "execution_count": null,
   "id": "2328ce50",
   "metadata": {},
   "outputs": [],
   "source": [
    "companies = fortune['company']"
   ]
  },
  {
   "cell_type": "code",
   "execution_count": null,
   "id": "c3604c25",
   "metadata": {},
   "outputs": [],
   "source": [
    "def replace_enron_with_random_company(text):\n",
    "    if not isinstance(text, str):\n",
    "        return text\n",
    "    # Replace each instance of 'enron' (case-insensitive) with a randomly chosen company\n",
    "    return re.sub(r'enron', lambda _: random.choice(companies), text, flags=re.IGNORECASE)\n"
   ]
  },
  {
   "cell_type": "code",
   "execution_count": null,
   "id": "ca0a5fb8",
   "metadata": {},
   "outputs": [],
   "source": [
    "text_columns = df.select_dtypes(include='object').columns\n",
    "for col in text_columns:\n",
    "    df[col] = df[col].apply(replace_enron_with_random_company)\n"
   ]
  },
  {
   "cell_type": "code",
   "execution_count": null,
   "id": "ab475529",
   "metadata": {},
   "outputs": [],
   "source": [
    "print(df.head())"
   ]
  },
  {
   "cell_type": "code",
   "execution_count": null,
   "id": "cb6b073b",
   "metadata": {},
   "outputs": [],
   "source": [
    "df.to_csv('Enron_New.csv', index=False)\n",
    "df.columns"
   ]
  },
  {
   "cell_type": "code",
   "execution_count": null,
   "id": "a740ab5d",
   "metadata": {},
   "outputs": [],
   "source": []
  }
 ],
 "metadata": {
  "kernelspec": {
   "display_name": "phishing-project",
   "language": "python",
   "name": "python3"
  },
  "language_info": {
   "codemirror_mode": {
    "name": "ipython",
    "version": 3
   },
   "file_extension": ".py",
   "mimetype": "text/x-python",
   "name": "python",
   "nbconvert_exporter": "python",
   "pygments_lexer": "ipython3",
   "version": "3.12.11"
  }
 },
 "nbformat": 4,
 "nbformat_minor": 5
}
