{
 "cells": [
  {
   "cell_type": "code",
   "execution_count": null,
   "id": "c6ff290b",
   "metadata": {},
   "outputs": [],
   "source": [
    "import pandas as pd"
   ]
  },
  {
   "cell_type": "code",
   "execution_count": null,
   "id": "ee2b4245",
   "metadata": {},
   "outputs": [],
   "source": [
    "df = pd.read_csv('./Phishing-Email-Dataset/TREC_07.csv')\n",
    "df.info()"
   ]
  },
  {
   "cell_type": "code",
   "execution_count": null,
   "id": "ea0a631d",
   "metadata": {},
   "outputs": [],
   "source": [
    "df.dropna(inplace=True)\n",
    "df.drop_duplicates(inplace=True)\n",
    "df.info()"
   ]
  },
  {
   "cell_type": "code",
   "execution_count": null,
   "id": "bb19d2e3",
   "metadata": {},
   "outputs": [],
   "source": [
    "df_trimmed = df[['subject', 'body', 'label']].copy()"
   ]
  },
  {
   "cell_type": "code",
   "execution_count": null,
   "id": "808fa049",
   "metadata": {},
   "outputs": [],
   "source": [
    "df_trimmed.head()"
   ]
  },
  {
   "cell_type": "code",
   "execution_count": null,
   "id": "cad93168",
   "metadata": {},
   "outputs": [],
   "source": [
    "print(df_trimmed['label'].value_counts())\n"
   ]
  },
  {
   "cell_type": "code",
   "execution_count": null,
   "id": "b4a218bd",
   "metadata": {},
   "outputs": [],
   "source": [
    "df_trimmed.to_csv('../validate.csv', index=False)"
   ]
  }
 ],
 "metadata": {
  "kernelspec": {
   "display_name": "phishfence",
   "language": "python",
   "name": "python3"
  },
  "language_info": {
   "codemirror_mode": {
    "name": "ipython",
    "version": 3
   },
   "file_extension": ".py",
   "mimetype": "text/x-python",
   "name": "python",
   "nbconvert_exporter": "python",
   "pygments_lexer": "ipython3",
   "version": "3.13.5"
  }
 },
 "nbformat": 4,
 "nbformat_minor": 5
}
