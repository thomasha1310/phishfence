{
 "cells": [
  {
   "cell_type": "code",
   "execution_count": null,
   "id": "232ee793",
   "metadata": {},
   "outputs": [],
   "source": [
    "import pandas as pd\n",
    "import re"
   ]
  },
  {
   "cell_type": "code",
   "execution_count": null,
   "id": "ede8c24d",
   "metadata": {},
   "outputs": [],
   "source": [
    "df_ceas = pd.read_csv('./Phishing-Email-Dataset/CEAS_08.csv')\n",
    "df_enron = pd.read_csv('./Phishing-Email-Dataset/Enron_New.csv')\n",
    "df_ling = pd.read_csv('./Phishing-Email-Dataset/Ling.csv')\n",
    "df_nazario = pd.read_csv('./Phishing-Email-Dataset/Nazario.csv')\n",
    "df_nigerian = pd.read_csv('./Phishing-Email-Dataset/Nigerian_Fraud.csv')\n",
    "df_assassin = pd.read_csv('./Phishing-Email-Dataset/SpamAssasin.csv')"
   ]
  },
  {
   "cell_type": "code",
   "execution_count": null,
   "id": "e0752575",
   "metadata": {},
   "outputs": [],
   "source": [
    "print('=============== CEAS 08  ===============')\n",
    "df_ceas.info()\n",
    "print('=============== ENRON    ===============')\n",
    "df_enron.info()\n",
    "print('=============== LING     ===============')\n",
    "df_ling.info()\n",
    "print('=============== NAZARIO  ===============')\n",
    "df_nazario.info()\n",
    "print('=============== NIGERIAN ===============')\n",
    "df_nigerian.info()\n",
    "print('=============== ASSASSIN ===============')\n",
    "df_assassin.info()\n"
   ]
  },
  {
   "cell_type": "code",
   "execution_count": null,
   "id": "025fc15f",
   "metadata": {},
   "outputs": [],
   "source": [
    "df_trimmed_ceas = df_ceas[['subject', 'body', 'label']]\n",
    "df_trimmed_enron = df_enron[['subject', 'body', 'label']]\n",
    "df_trimmed_ling = df_ling[['subject', 'body', 'label']]\n",
    "df_trimmed_nazario = df_nazario[['subject', 'body', 'label']]\n",
    "df_trimmed_nigerian = df_nigerian[['subject', 'body', 'label']]\n",
    "df_trimmed_assassin = df_assassin[['subject', 'body', 'label']]\n",
    "\n",
    "print('=============== CEAS 08  ===============')\n",
    "df_trimmed_ceas.info()\n",
    "print('=============== ENRON    ===============')\n",
    "df_trimmed_enron.info()\n",
    "print('=============== LING     ===============')\n",
    "df_trimmed_ling.info()\n",
    "print('=============== NAZARIO  ===============')\n",
    "df_trimmed_nazario.info()\n",
    "print('=============== NIGERIAN ===============')\n",
    "df_trimmed_nigerian.info()\n",
    "print('=============== ASSASSIN ===============')\n",
    "df_trimmed_assassin.info()\n"
   ]
  },
  {
   "cell_type": "code",
   "execution_count": null,
   "id": "fea14a06",
   "metadata": {},
   "outputs": [],
   "source": [
    "df_complete = pd.concat(\n",
    "    [df_trimmed_ceas,\n",
    "     df_trimmed_enron,\n",
    "     df_trimmed_assassin,\n",
    "     df_trimmed_ling,\n",
    "     df_trimmed_nazario,\n",
    "     df_trimmed_nigerian],\n",
    "    axis=0,\n",
    "    ignore_index=True\n",
    ")"
   ]
  },
  {
   "cell_type": "code",
   "execution_count": null,
   "id": "f16ae194",
   "metadata": {},
   "outputs": [],
   "source": [
    "df_complete.info()"
   ]
  },
  {
   "cell_type": "code",
   "execution_count": null,
   "id": "c5f4466b",
   "metadata": {},
   "outputs": [],
   "source": [
    "df_complete.dropna(inplace=True)\n",
    "df_complete.drop_duplicates(inplace=True)\n",
    "df_complete.info()"
   ]
  },
  {
   "cell_type": "code",
   "execution_count": null,
   "id": "d8484e1c",
   "metadata": {},
   "outputs": [],
   "source": [
    "print(df_complete['label'].value_counts())\n",
    "print(df_trimmed_enron['label'].value_counts())\n"
   ]
  },
  {
   "cell_type": "code",
   "execution_count": null,
   "id": "b3573140",
   "metadata": {},
   "outputs": [],
   "source": [
    "df_complete.to_csv('emails.csv', index=False)"
   ]
  }
 ],
 "metadata": {
  "kernelspec": {
   "display_name": "phishing-project",
   "language": "python",
   "name": "python3"
  },
  "language_info": {
   "codemirror_mode": {
    "name": "ipython",
    "version": 3
   },
   "file_extension": ".py",
   "mimetype": "text/x-python",
   "name": "python",
   "nbconvert_exporter": "python",
   "pygments_lexer": "ipython3",
   "version": "3.12.11"
  }
 },
 "nbformat": 4,
 "nbformat_minor": 5
}
